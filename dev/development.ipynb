{
 "metadata": {
  "language_info": {
   "codemirror_mode": {
    "name": "ipython",
    "version": 3
   },
   "file_extension": ".py",
   "mimetype": "text/x-python",
   "name": "python",
   "nbconvert_exporter": "python",
   "pygments_lexer": "ipython3",
   "version": 3
  },
  "orig_nbformat": 2,
  "kernelspec": {
   "name": "python_defaultSpec_1595572309571",
   "display_name": "Python 3.7.7 64-bit ('machine-learning': conda)"
  }
 },
 "nbformat": 4,
 "nbformat_minor": 2,
 "cells": [
  {
   "cell_type": "markdown",
   "metadata": {},
   "source": [
    "# Handwritten Digits Recognition by Scikit-Learn, Chainer, PyTorch & Tensorflow"
   ]
  },
  {
   "cell_type": "markdown",
   "metadata": {},
   "source": [
    "## Checking available MNIST datasets from each libraries"
   ]
  },
  {
   "cell_type": "markdown",
   "metadata": {},
   "source": [
    "### sklearn"
   ]
  },
  {
   "cell_type": "code",
   "execution_count": 7,
   "metadata": {},
   "outputs": [],
   "source": [
    "#!pip install sklearn\n",
    "from sklearn import datasets"
   ]
  },
  {
   "cell_type": "code",
   "execution_count": 8,
   "metadata": {
    "tags": []
   },
   "outputs": [
    {
     "output_type": "stream",
     "name": "stdout",
     "text": "Shape:  (1797, 64)\n"
    }
   ],
   "source": [
    "skl_digits = datasets.load_digits()\n",
    "# shape of each digit image\n",
    "print('Shape: ', skl_digits.data.shape)\n",
    "\n",
    "# ==> (1797, 64): 1797 * 8x8 image"
   ]
  },
  {
   "cell_type": "markdown",
   "metadata": {},
   "source": [
    "### chainer"
   ]
  },
  {
   "cell_type": "code",
   "execution_count": 27,
   "metadata": {
    "tags": []
   },
   "outputs": [],
   "source": [
    "#!pip install chainer\n",
    "import chainer"
   ]
  },
  {
   "cell_type": "code",
   "execution_count": 11,
   "metadata": {
    "tags": []
   },
   "outputs": [
    {
     "output_type": "stream",
     "name": "stderr",
     "text": "Downloading from http://yann.lecun.com/exdb/mnist/train-images-idx3-ubyte.gz...\nDownloading from http://yann.lecun.com/exdb/mnist/train-labels-idx1-ubyte.gz...\nDownloading from http://yann.lecun.com/exdb/mnist/t10k-images-idx3-ubyte.gz...\nDownloading from http://yann.lecun.com/exdb/mnist/t10k-labels-idx1-ubyte.gz...\n"
    },
    {
     "output_type": "execute_result",
     "data": {
      "text/plain": "60000"
     },
     "metadata": {},
     "execution_count": 11
    }
   ],
   "source": [
    "train, test = chainer.datasets.get_mnist(withlabel = True, ndim=1)"
   ]
  },
  {
   "cell_type": "code",
   "execution_count": 15,
   "metadata": {
    "tags": []
   },
   "outputs": [
    {
     "output_type": "stream",
     "name": "stdout",
     "text": "# of train data 60000\n# of test data 10000\n"
    }
   ],
   "source": [
    "print('# of train data',len(train))\n",
    "print('# of test data',len(test))"
   ]
  },
  {
   "cell_type": "code",
   "execution_count": 26,
   "metadata": {},
   "outputs": [
    {
     "output_type": "execute_result",
     "data": {
      "text/plain": "(784,)"
     },
     "metadata": {},
     "execution_count": 26
    }
   ],
   "source": [
    "train[10][0].shape"
   ]
  },
  {
   "cell_type": "markdown",
   "metadata": {},
   "source": [
    "### PyTorch"
   ]
  }
 ]
}